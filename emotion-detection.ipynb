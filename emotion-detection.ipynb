{
 "cells": [
  {
   "cell_type": "code",
   "execution_count": 1,
   "id": "714df8ab",
   "metadata": {},
   "outputs": [],
   "source": [
    "from tensorflow.keras.preprocessing.image import ImageDataGenerator\n",
    "from tensorflow.keras.applications.vgg19 import preprocess_input\n",
    "import warnings\n",
    "from keras.applications.vgg19 import VGG19\n",
    "import tensorflow as tf\n",
    "from PIL import Image, ImageFile\n",
    "import PIL.Image\n",
    "import numpy as np\n",
    "import matplotlib.pyplot as plt\n",
    "\n",
    "ImageFile.LOAD_TRUNCATED_IMAGES = True"
   ]
  },
  {
   "cell_type": "code",
   "execution_count": 57,
   "id": "0780aae4",
   "metadata": {},
   "outputs": [
    {
     "name": "stdout",
     "output_type": "stream",
     "text": [
      "GPU name:  []\n"
     ]
    }
   ],
   "source": [
    "print(\"GPU name: \", tf.config.experimental.list_physical_devices(\"GPU\"))"
   ]
  },
  {
   "cell_type": "code",
   "execution_count": 2,
   "id": "d8b8ba4f",
   "metadata": {},
   "outputs": [],
   "source": [
    "NUM_THREADS = 4\n",
    "tf.config.threading.set_inter_op_parallelism_threads(NUM_THREADS)\n",
    "tf.config.threading.set_intra_op_parallelism_threads(NUM_THREADS)"
   ]
  },
  {
   "attachments": {},
   "cell_type": "markdown",
   "id": "5e632c09",
   "metadata": {},
   "source": [
    "# Data\n",
    "\n",
    "Our data will is in the DATASET folder split into our TRAIN and TEST datasets. Each folder contains one folder for each of our labels. Our next step will be to preprocess our data.\n",
    "\n",
    "- We use ImageDataGenerator to do some transformations of the images\n",
    "- Then we can apply the transformations to the directories for our train and test folder\n"
   ]
  },
  {
   "cell_type": "code",
   "execution_count": 14,
   "id": "20762ab3",
   "metadata": {},
   "outputs": [],
   "source": [
    "train_dir = \"DATASET/CK+48\"\n",
    "test_dir = \"DATASET/TEST\"\n"
   ]
  },
  {
   "cell_type": "code",
   "execution_count": null,
   "id": "02a1e98b",
   "metadata": {},
   "outputs": [],
   "source": [
    "# test gray scale image to rgb function\n",
    "\n",
    "img = tf.keras.utils.load_img(\"DATASET/TEST/happy/PrivateTest_10470092.jpg\")\n",
    "# summarize some details about the image\n",
    "print(img.format)\n",
    "print(img.mode)\n",
    "# summarize shape\n",
    "# print(tf_img.shape)\n",
    "# print(img)\n",
    "# tf.shape(image)\n",
    "image = tf.image.grayscale_to_rgb(img)\n",
    "image = tf.convert_to_tensor(image)\n",
    "\n",
    "print(image.shape)\n"
   ]
  },
  {
   "cell_type": "code",
   "execution_count": 3,
   "id": "dfe98299",
   "metadata": {},
   "outputs": [],
   "source": [
    "# transform train gray images to rgb\n",
    "def from_grayscale_to_rgb(image):\n",
    "    image = tf.convert_to_tensor(image)\n",
    "    # tf.expand_dims(image, -1).shape.as_list()\n",
    "    print(f\"convert to tensor {image.shape}\")\n",
    "    image = tf.image.grayscale_to_rgb(image)\n",
    "    print(f\"convert gray to rgb {image.shape}\")\n",
    "    # image_np = image.numpy()\n",
    "    # print(f\"convert gray to numpy {image.shape}\")\n",
    "    return image"
   ]
  },
  {
   "cell_type": "code",
   "execution_count": 15,
   "id": "b9440f29",
   "metadata": {},
   "outputs": [],
   "source": [
    "# Extending preprocessing from VGG19\n",
    "def our_preprocessing_function(image):\n",
    "    # Combines all the transformations\n",
    "    # img = from_grayscale_to_rgb(image)\n",
    "    final_img = preprocess_input(image)\n",
    "    return final_img\n"
   ]
  },
  {
   "cell_type": "code",
   "execution_count": 16,
   "id": "c0281467",
   "metadata": {},
   "outputs": [],
   "source": [
    "train_datagen = ImageDataGenerator(\n",
    "    width_shift_range=0.1,\n",
    "    horizontal_flip=True,\n",
    "    rescale=1.0 / 255,\n",
    "    validation_split=0.2,\n",
    "    preprocessing_function=our_preprocessing_function,\n",
    ")\n",
    "test_datagen = ImageDataGenerator(\n",
    "    rescale=1.0 / 255, preprocessing_function=preprocess_input\n",
    ")"
   ]
  },
  {
   "cell_type": "code",
   "execution_count": 18,
   "id": "b2a371cc",
   "metadata": {},
   "outputs": [
    {
     "name": "stdout",
     "output_type": "stream",
     "text": [
      "Found 788 images belonging to 7 classes.\n",
      "Found 193 images belonging to 7 classes.\n"
     ]
    }
   ],
   "source": [
    "train_generator = train_datagen.flow_from_directory(\n",
    "    directory=train_dir,\n",
    "    target_size=(48, 48),\n",
    "    color_mode=\"rgb\",\n",
    "    class_mode=\"categorical\",\n",
    "    batch_size=16,\n",
    "    subset=\"training\",\n",
    ")\n",
    "validation_generator = train_datagen.flow_from_directory(\n",
    "    directory=train_dir,\n",
    "    target_size=(48, 48),\n",
    "    color_mode=\"rgb\",\n",
    "    class_mode=\"categorical\",\n",
    "    batch_size=16,\n",
    "    subset=\"validation\",\n",
    ")"
   ]
  },
  {
   "cell_type": "code",
   "execution_count": 19,
   "id": "1c058182",
   "metadata": {},
   "outputs": [
    {
     "name": "stdout",
     "output_type": "stream",
     "text": [
      "{'angry': 0, 'disgust': 1, 'fear': 2, 'happy': 3, 'neutral': 4, 'sad': 5, 'surprise': 6}\n",
      "{'angry': 0, 'disgust': 1, 'fear': 2, 'happy': 3, 'neutral': 4, 'sad': 5, 'surprise': 6}\n"
     ]
    }
   ],
   "source": [
    "print(validation_generator.class_indices)\n",
    "print(train_generator.class_indices)"
   ]
  },
  {
   "cell_type": "code",
   "execution_count": 20,
   "id": "57a4020e",
   "metadata": {},
   "outputs": [
    {
     "name": "stdout",
     "output_type": "stream",
     "text": [
      "{0: 108, 1: 142, 2: 60, 3: 166, 4: 44, 5: 68, 6: 200}\n",
      "{0: 0.4074074074074074, 1: 0.30985915492957744, 2: 0.7333333333333333, 3: 0.26506024096385544, 4: 1.0, 5: 0.6470588235294118, 6: 0.22}\n"
     ]
    }
   ],
   "source": [
    "def compute_weights(train_generator):\n",
    "    unique, counts = np.unique(train_generator.classes, return_counts=True)\n",
    "    classes_count = dict(zip(unique, counts))\n",
    "    print(classes_count)\n",
    "    # Determine the number of samples in the smallest class\n",
    "    num_samples_per_class = min(classes_count.values())\n",
    "    # Use class weights to balance the dataset during training\n",
    "    class_weights = {\n",
    "        c: num_samples_per_class / classes_count[c]\n",
    "        for c in range(train_generator.num_classes)\n",
    "    }\n",
    "    return class_weights\n",
    "\n",
    "\n",
    "class_weights = compute_weights(train_generator)\n",
    "print(class_weights)"
   ]
  },
  {
   "attachments": {},
   "cell_type": "markdown",
   "id": "122c213c",
   "metadata": {},
   "source": [
    "We will use the VGG19 model you can read more about the requirements and considerations for this model in the documentation (https://keras.io/api/applications/vgg/).\n"
   ]
  },
  {
   "cell_type": "code",
   "execution_count": 21,
   "id": "75ae9b6e",
   "metadata": {},
   "outputs": [
    {
     "name": "stdout",
     "output_type": "stream",
     "text": [
      "Model: \"vgg19\"\n",
      "_________________________________________________________________\n",
      " Layer (type)                Output Shape              Param #   \n",
      "=================================================================\n",
      " input_2 (InputLayer)        [(None, 48, 48, 3)]       0         \n",
      "                                                                 \n",
      " block1_conv1 (Conv2D)       (None, 48, 48, 64)        1792      \n",
      "                                                                 \n",
      " block1_conv2 (Conv2D)       (None, 48, 48, 64)        36928     \n",
      "                                                                 \n",
      " block1_pool (MaxPooling2D)  (None, 24, 24, 64)        0         \n",
      "                                                                 \n",
      " block2_conv1 (Conv2D)       (None, 24, 24, 128)       73856     \n",
      "                                                                 \n",
      " block2_conv2 (Conv2D)       (None, 24, 24, 128)       147584    \n",
      "                                                                 \n",
      " block2_pool (MaxPooling2D)  (None, 12, 12, 128)       0         \n",
      "                                                                 \n",
      " block3_conv1 (Conv2D)       (None, 12, 12, 256)       295168    \n",
      "                                                                 \n",
      " block3_conv2 (Conv2D)       (None, 12, 12, 256)       590080    \n",
      "                                                                 \n",
      " block3_conv3 (Conv2D)       (None, 12, 12, 256)       590080    \n",
      "                                                                 \n",
      " block3_conv4 (Conv2D)       (None, 12, 12, 256)       590080    \n",
      "                                                                 \n",
      " block3_pool (MaxPooling2D)  (None, 6, 6, 256)         0         \n",
      "                                                                 \n",
      " block4_conv1 (Conv2D)       (None, 6, 6, 512)         1180160   \n",
      "                                                                 \n",
      " block4_conv2 (Conv2D)       (None, 6, 6, 512)         2359808   \n",
      "                                                                 \n",
      " block4_conv3 (Conv2D)       (None, 6, 6, 512)         2359808   \n",
      "                                                                 \n",
      " block4_conv4 (Conv2D)       (None, 6, 6, 512)         2359808   \n",
      "                                                                 \n",
      " block4_pool (MaxPooling2D)  (None, 3, 3, 512)         0         \n",
      "                                                                 \n",
      " block5_conv1 (Conv2D)       (None, 3, 3, 512)         2359808   \n",
      "                                                                 \n",
      " block5_conv2 (Conv2D)       (None, 3, 3, 512)         2359808   \n",
      "                                                                 \n",
      " block5_conv3 (Conv2D)       (None, 3, 3, 512)         2359808   \n",
      "                                                                 \n",
      " block5_conv4 (Conv2D)       (None, 3, 3, 512)         2359808   \n",
      "                                                                 \n",
      " block5_pool (MaxPooling2D)  (None, 1, 1, 512)         0         \n",
      "                                                                 \n",
      "=================================================================\n",
      "Total params: 20,024,384\n",
      "Trainable params: 0\n",
      "Non-trainable params: 20,024,384\n",
      "_________________________________________________________________\n"
     ]
    }
   ],
   "source": [
    "model = VGG19(include_top=False, weights=\"imagenet\", input_shape=(48, 48, 3))\n",
    "\n",
    "# Freeze the imported layers so they cannot be retrained.\n",
    "for layer in model.layers:\n",
    "    layer.trainable = False\n",
    "\n",
    "\n",
    "model.summary()\n"
   ]
  },
  {
   "attachments": {},
   "cell_type": "markdown",
   "id": "9b247471",
   "metadata": {},
   "source": [
    "### Adding flattening and dense layers\n",
    "\n",
    "Right now, our model is missing a top to actually classify our features. Let's add them:\n"
   ]
  },
  {
   "cell_type": "code",
   "execution_count": 22,
   "id": "433463e9",
   "metadata": {},
   "outputs": [
    {
     "name": "stdout",
     "output_type": "stream",
     "text": [
      "Model: \"sequential_1\"\n",
      "_________________________________________________________________\n",
      " Layer (type)                Output Shape              Param #   \n",
      "=================================================================\n",
      " vgg19 (Functional)          (None, 1, 1, 512)         20024384  \n",
      "                                                                 \n",
      " flatten_1 (Flatten)         (None, 512)               0         \n",
      "                                                                 \n",
      " dense_2 (Dense)             (None, 49)                25137     \n",
      "                                                                 \n",
      " dropout_1 (Dropout)         (None, 49)                0         \n",
      "                                                                 \n",
      " dense_3 (Dense)             (None, 7)                 350       \n",
      "                                                                 \n",
      "=================================================================\n",
      "Total params: 20,049,871\n",
      "Trainable params: 25,487\n",
      "Non-trainable params: 20,024,384\n",
      "_________________________________________________________________\n"
     ]
    }
   ],
   "source": [
    "from keras import Sequential\n",
    "from keras.layers import Dense\n",
    "from keras.layers import Flatten\n",
    "from keras.layers import Dropout\n",
    "\n",
    "new_model = Sequential()\n",
    "new_model.add(model)\n",
    "new_model.add(Flatten())\n",
    "new_model.add(Dense(49, activation=\"relu\"))\n",
    "\n",
    "new_model.add(Dropout(0.3))\n",
    "new_model.add(Dense(7, activation=\"softmax\"))\n",
    "\n",
    "# Summarize.\n",
    "new_model.summary()\n"
   ]
  },
  {
   "cell_type": "code",
   "execution_count": 23,
   "id": "dc22bd3d",
   "metadata": {},
   "outputs": [],
   "source": [
    "# This callback will stop the training when there is no improvement in\n",
    "# the loss for three consecutive epochs.\n",
    "callback = tf.keras.callbacks.EarlyStopping(monitor=\"accuracy\", patience=3)"
   ]
  },
  {
   "cell_type": "code",
   "execution_count": 24,
   "id": "17de85fb",
   "metadata": {},
   "outputs": [
    {
     "name": "stdout",
     "output_type": "stream",
     "text": [
      "Epoch 1/20\n",
      "50/50 [==============================] - 7s 135ms/step - loss: 0.9078 - accuracy: 0.2272 - val_loss: 1.9317 - val_accuracy: 0.2591\n",
      "Epoch 2/20\n",
      "50/50 [==============================] - 6s 110ms/step - loss: 0.8209 - accuracy: 0.2132 - val_loss: 1.8620 - val_accuracy: 0.2487\n",
      "Epoch 3/20\n",
      "50/50 [==============================] - 5s 109ms/step - loss: 0.7837 - accuracy: 0.2360 - val_loss: 1.8263 - val_accuracy: 0.2591\n",
      "Epoch 4/20\n",
      "50/50 [==============================] - 6s 110ms/step - loss: 0.7530 - accuracy: 0.2602 - val_loss: 1.7973 - val_accuracy: 0.3057\n",
      "Epoch 5/20\n",
      "50/50 [==============================] - 5s 107ms/step - loss: 0.7370 - accuracy: 0.3008 - val_loss: 1.7818 - val_accuracy: 0.3575\n",
      "Epoch 6/20\n",
      "50/50 [==============================] - 5s 107ms/step - loss: 0.7233 - accuracy: 0.3211 - val_loss: 1.7495 - val_accuracy: 0.3731\n",
      "Epoch 7/20\n",
      "50/50 [==============================] - 5s 107ms/step - loss: 0.7035 - accuracy: 0.3350 - val_loss: 1.7296 - val_accuracy: 0.3886\n",
      "Epoch 8/20\n",
      "50/50 [==============================] - 5s 108ms/step - loss: 0.6997 - accuracy: 0.3629 - val_loss: 1.7126 - val_accuracy: 0.3782\n",
      "Epoch 9/20\n",
      "50/50 [==============================] - 5s 108ms/step - loss: 0.6798 - accuracy: 0.3680 - val_loss: 1.7164 - val_accuracy: 0.3523\n",
      "Epoch 10/20\n",
      "50/50 [==============================] - 5s 108ms/step - loss: 0.6629 - accuracy: 0.3820 - val_loss: 1.6953 - val_accuracy: 0.3627\n",
      "Epoch 11/20\n",
      "50/50 [==============================] - 5s 108ms/step - loss: 0.6710 - accuracy: 0.3820 - val_loss: 1.6645 - val_accuracy: 0.3834\n",
      "Epoch 12/20\n",
      "50/50 [==============================] - 5s 109ms/step - loss: 0.6557 - accuracy: 0.4175 - val_loss: 1.6795 - val_accuracy: 0.3575\n",
      "Epoch 13/20\n",
      "50/50 [==============================] - 5s 109ms/step - loss: 0.6328 - accuracy: 0.4416 - val_loss: 1.6538 - val_accuracy: 0.4352\n",
      "Epoch 14/20\n",
      "50/50 [==============================] - 5s 107ms/step - loss: 0.6412 - accuracy: 0.3896 - val_loss: 1.6376 - val_accuracy: 0.3938\n",
      "Epoch 15/20\n",
      "50/50 [==============================] - 5s 108ms/step - loss: 0.6234 - accuracy: 0.4683 - val_loss: 1.6395 - val_accuracy: 0.4041\n",
      "Epoch 16/20\n",
      "50/50 [==============================] - 5s 108ms/step - loss: 0.6088 - accuracy: 0.4746 - val_loss: 1.6218 - val_accuracy: 0.3834\n",
      "Epoch 17/20\n",
      "50/50 [==============================] - 5s 108ms/step - loss: 0.6167 - accuracy: 0.4848 - val_loss: 1.5941 - val_accuracy: 0.4404\n",
      "Epoch 18/20\n",
      "50/50 [==============================] - 5s 108ms/step - loss: 0.5979 - accuracy: 0.4695 - val_loss: 1.5976 - val_accuracy: 0.4093\n",
      "Epoch 19/20\n",
      "50/50 [==============================] - 5s 108ms/step - loss: 0.6037 - accuracy: 0.4695 - val_loss: 1.6028 - val_accuracy: 0.4145\n",
      "Epoch 20/20\n",
      "50/50 [==============================] - 5s 108ms/step - loss: 0.5924 - accuracy: 0.4937 - val_loss: 1.5805 - val_accuracy: 0.4197\n"
     ]
    }
   ],
   "source": [
    "from tensorflow.keras.optimizers import Adam\n",
    "\n",
    "# Compile and fit the model. Use the Adam optimizer and crossentropical loss.\n",
    "# Use the validation data argument during fitting to include your validation data.\n",
    "optimizer = Adam(learning_rate=0.0001)\n",
    "new_model.compile(\n",
    "    optimizer=optimizer, loss=\"categorical_crossentropy\", metrics=[\"accuracy\"]\n",
    ")\n",
    "history = new_model.fit(\n",
    "    train_generator,\n",
    "    epochs=20,\n",
    "    batch_size=16,\n",
    "    validation_data=validation_generator,\n",
    "    callbacks=[callback],\n",
    "    class_weight=class_weights,\n",
    ")\n",
    "\n",
    "len(history.history[\"accuracy\"])"
   ]
  },
  {
   "cell_type": "code",
   "execution_count": 25,
   "id": "f41da93c",
   "metadata": {},
   "outputs": [
    {
     "name": "stdout",
     "output_type": "stream",
     "text": [
      "<keras.callbacks.History object at 0x0000014866BAD2D0>\n"
     ]
    },
    {
     "data": {
      "image/png": "[encoded data removed]",
      "text/plain": [
       "<Figure size 640x480 with 1 Axes>"
      ]
     },
     "metadata": {},
     "output_type": "display_data"
    },
    {
     "data": {
      "image/png": "[encoded data removed]",
      "text/plain": [
       "<Figure size 640x480 with 1 Axes>"
      ]
     },
     "metadata": {},
     "output_type": "display_data"
    }
   ],
   "source": [
    "print(history)\n",
    "# summarize history for accuracy\n",
    "plt.plot(history.history[\"accuracy\"])\n",
    "plt.plot(history.history[\"val_accuracy\"])\n",
    "plt.title(\"model accuracy\")\n",
    "plt.ylabel(\"accuracy\")\n",
    "plt.xlabel(\"epoch\")\n",
    "plt.legend([\"train\", \"test\"], loc=\"upper left\")\n",
    "plt.show()\n",
    "# summarize history for loss\n",
    "plt.plot(history.history[\"loss\"])\n",
    "plt.plot(history.history[\"val_loss\"])\n",
    "plt.title(\"model loss\")\n",
    "plt.ylabel(\"loss\")\n",
    "plt.xlabel(\"epoch\")\n",
    "plt.legend([\"train\", \"test\"], loc=\"upper left\")\n",
    "plt.show()\n"
   ]
  },
  {
   "attachments": {},
   "cell_type": "markdown",
   "id": "b03ca76f",
   "metadata": {},
   "source": [
    "# Predicting the class of your image\n",
    "\n",
    "Let's take this bad boy for a spin! Can your image get properly identified?\n"
   ]
  },
  {
   "cell_type": "code",
   "execution_count": 26,
   "id": "0f32a4a1",
   "metadata": {},
   "outputs": [
    {
     "name": "stdout",
     "output_type": "stream",
     "text": [
      "(48, 48, 3)\n",
      "(1, 48, 48, 3)\n",
      "1/1 [==============================] - 0s 150ms/step\n",
      "(1, 7)\n",
      "['angry', 'disgust', 'fear', 'happy', 'neutral', 'sad', 'surprise']\n"
     ]
    },
    {
     "data": {
      "text/plain": [
       "'happy'"
      ]
     },
     "execution_count": 26,
     "metadata": {},
     "output_type": "execute_result"
    }
   ],
   "source": [
    "import numpy as np\n",
    "from tensorflow.keras.applications.vgg19 import preprocess_input\n",
    "\n",
    "# Predict the class of your picture.\n",
    "\n",
    "img = tf.keras.preprocessing.image.load_img(\n",
    "    \"./test_folder/maité.png\", target_size=(48, 48)\n",
    ")\n",
    "\n",
    "\n",
    "img_nparray = tf.keras.preprocessing.image.img_to_array(img)\n",
    "\n",
    "print(img_nparray.shape)\n",
    "# convert image to array\n",
    "\n",
    "x = preprocess_input(img_nparray).reshape((1, 48, 48, 3))\n",
    "\n",
    "print(x.shape)\n",
    "\n",
    "prediction = new_model.predict(x)\n",
    "\n",
    "print(prediction.shape)\n",
    "\n",
    "# create a list containing the class labels\n",
    "# class_labels = [\"downdog\", \"goddess\", \"plank\", \"tree\", \"warrior2\"]\n",
    "class_labels = list(validation_generator.class_indices.keys())\n",
    "print(class_labels)\n",
    "\n",
    "# find the index of the class with maximum score\n",
    "pred = np.argmax(prediction, axis=-1)\n",
    "class_labels[pred[0]]"
   ]
  }
 ],
 "metadata": {
  "kernelspec": {
   "display_name": "tf",
   "language": "python",
   "name": "python3"
  },
  "language_info": {
   "codemirror_mode": {
    "name": "ipython",
    "version": 3
   },
   "file_extension": ".py",
   "mimetype": "text/x-python",
   "name": "python",
   "nbconvert_exporter": "python",
   "pygments_lexer": "ipython3",
   "version": "3.11.0"
  }
 },
 "nbformat": 4,
 "nbformat_minor": 5
}
